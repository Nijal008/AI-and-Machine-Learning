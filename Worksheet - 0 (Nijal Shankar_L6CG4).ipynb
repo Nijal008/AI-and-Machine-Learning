{
  "cells": [
    {
      "cell_type": "markdown",
      "metadata": {
        "id": "HmlzwRP7tlJG"
      },
      "source": [
        "#Worksheet - 0"
      ]
    },
    {
      "cell_type": "markdown",
      "metadata": {
        "id": "KtPO7SuAto7l"
      },
      "source": [
        "##Importing Necessary Libraries"
      ]
    },
    {
      "cell_type": "code",
      "execution_count": 2,
      "metadata": {
        "id": "4jpW4aLksfQw"
      },
      "outputs": [],
      "source": [
        "import numpy as np\n",
        "import time"
      ]
    },
    {
      "cell_type": "code",
      "source": [
        "from google.colab import drive\n",
        "drive.mount('/content/drive')"
      ],
      "metadata": {
        "colab": {
          "base_uri": "https://localhost:8080/"
        },
        "id": "RnO-3jbz9RWY",
        "outputId": "ad67fffe-e390-483a-ec2f-1bd0e572735d"
      },
      "execution_count": 3,
      "outputs": [
        {
          "output_type": "stream",
          "name": "stdout",
          "text": [
            "Drive already mounted at /content/drive; to attempt to forcibly remount, call drive.mount(\"/content/drive\", force_remount=True).\n"
          ]
        }
      ]
    },
    {
      "cell_type": "markdown",
      "metadata": {
        "id": "_lHKK-IYvFRU"
      },
      "source": [
        "##Problem - 1: Array Creation"
      ]
    },
    {
      "cell_type": "markdown",
      "metadata": {
        "id": "V7mNb6HHuMO7"
      },
      "source": [
        "###1. Initializing Empty Array (2 * 2)"
      ]
    },
    {
      "cell_type": "code",
      "execution_count": 4,
      "metadata": {
        "colab": {
          "base_uri": "https://localhost:8080/"
        },
        "id": "IghEv9ZhuSW2",
        "outputId": "bef0545f-f97f-4ac5-e172-656500b7893c"
      },
      "outputs": [
        {
          "output_type": "execute_result",
          "data": {
            "text/plain": [
              "array([[1.68016767e-313, 0.00000000e+000],\n",
              "       [4.94065646e-324,             nan]])"
            ]
          },
          "metadata": {},
          "execution_count": 4
        }
      ],
      "source": [
        "array = np.empty((2, 2))\n",
        "array #contains garbage values"
      ]
    },
    {
      "cell_type": "code",
      "execution_count": 5,
      "metadata": {
        "colab": {
          "base_uri": "https://localhost:8080/"
        },
        "id": "6ED3VzQwuhes",
        "outputId": "d44a97cc-6702-4129-842a-2596843a802a"
      },
      "outputs": [
        {
          "output_type": "execute_result",
          "data": {
            "text/plain": [
              "array([[0., 0.],\n",
              "       [0., 0.]])"
            ]
          },
          "metadata": {},
          "execution_count": 5
        }
      ],
      "source": [
        "array = np.zeros((2, 2))\n",
        "array #initializes with 0"
      ]
    },
    {
      "cell_type": "code",
      "execution_count": 6,
      "metadata": {
        "colab": {
          "base_uri": "https://localhost:8080/"
        },
        "id": "xss1mQBmuoM6",
        "outputId": "f8fb22e6-08d5-470c-a81e-15c7bb6d3efb"
      },
      "outputs": [
        {
          "output_type": "execute_result",
          "data": {
            "text/plain": [
              "array([[20, 20],\n",
              "       [20, 20]])"
            ]
          },
          "metadata": {},
          "execution_count": 6
        }
      ],
      "source": [
        "array = np.full((2, 2), 20) #you can specify your initialization value\n",
        "array #20"
      ]
    },
    {
      "cell_type": "markdown",
      "metadata": {
        "id": "5feXdI26vDqe"
      },
      "source": [
        "###2. Initializing all one array (4 * 2)"
      ]
    },
    {
      "cell_type": "code",
      "execution_count": 7,
      "metadata": {
        "colab": {
          "base_uri": "https://localhost:8080/"
        },
        "id": "YK32JemAu0G1",
        "outputId": "67661076-6b3f-46e1-86a2-c971b5f79cd2"
      },
      "outputs": [
        {
          "output_type": "execute_result",
          "data": {
            "text/plain": [
              "array([[1, 1],\n",
              "       [1, 1],\n",
              "       [1, 1],\n",
              "       [1, 1]])"
            ]
          },
          "metadata": {},
          "execution_count": 7
        }
      ],
      "source": [
        "array = np.ones((4, 2), dtype=int) #set type to integer initiall float\n",
        "array"
      ]
    },
    {
      "cell_type": "code",
      "execution_count": 8,
      "metadata": {
        "colab": {
          "base_uri": "https://localhost:8080/"
        },
        "id": "fcxdtD59vUx8",
        "outputId": "9282c6ce-a29e-4645-f0a2-bc3ab356c2b1"
      },
      "outputs": [
        {
          "output_type": "execute_result",
          "data": {
            "text/plain": [
              "array([[1, 1],\n",
              "       [1, 1],\n",
              "       [1, 1],\n",
              "       [1, 1]])"
            ]
          },
          "metadata": {},
          "execution_count": 8
        }
      ],
      "source": [
        "array = np.full((4, 2), 1)\n",
        "array"
      ]
    },
    {
      "cell_type": "markdown",
      "metadata": {
        "id": "6GTqMzNhvqA0"
      },
      "source": [
        "###3. New Array of Given Shape and type filled with fill value"
      ]
    },
    {
      "cell_type": "code",
      "execution_count": 9,
      "metadata": {
        "colab": {
          "base_uri": "https://localhost:8080/"
        },
        "id": "ar5bOe4Qv14a",
        "outputId": "5fa81087-a10d-4765-d599-614f40a10b7e"
      },
      "outputs": [
        {
          "output_type": "execute_result",
          "data": {
            "text/plain": [
              "array([[9, 9, 9, 9],\n",
              "       [9, 9, 9, 9],\n",
              "       [9, 9, 9, 9],\n",
              "       [9, 9, 9, 9]])"
            ]
          },
          "metadata": {},
          "execution_count": 9
        }
      ],
      "source": [
        "array = np.full((4, 4), 9, dtype=int)\n",
        "array"
      ]
    },
    {
      "cell_type": "markdown",
      "metadata": {
        "id": "De-1ZrLQwPTh"
      },
      "source": [
        "###4. New array of zeros with same shape and type as given array"
      ]
    },
    {
      "cell_type": "code",
      "execution_count": 10,
      "metadata": {
        "colab": {
          "base_uri": "https://localhost:8080/"
        },
        "id": "8TfNOjgxwVr9",
        "outputId": "f9941906-e99b-4419-d725-6f2c3d9312da"
      },
      "outputs": [
        {
          "output_type": "execute_result",
          "data": {
            "text/plain": [
              "array([[0, 0, 0, 0],\n",
              "       [0, 0, 0, 0],\n",
              "       [0, 0, 0, 0],\n",
              "       [0, 0, 0, 0]])"
            ]
          },
          "metadata": {},
          "execution_count": 10
        }
      ],
      "source": [
        "array = np.full((4, 4), 8)\n",
        "new_array = np.zeros_like(array)\n",
        "new_array"
      ]
    },
    {
      "cell_type": "markdown",
      "metadata": {
        "id": "oCfy_0p6wpcV"
      },
      "source": [
        "###5. New array of ones with same shape and type as given array"
      ]
    },
    {
      "cell_type": "code",
      "execution_count": 11,
      "metadata": {
        "colab": {
          "base_uri": "https://localhost:8080/"
        },
        "id": "0YVB2p_Tw8ti",
        "outputId": "9346f6a9-ce4e-4609-e487-01536cbfa69d"
      },
      "outputs": [
        {
          "output_type": "execute_result",
          "data": {
            "text/plain": [
              "array([[1, 1, 1],\n",
              "       [1, 1, 1],\n",
              "       [1, 1, 1],\n",
              "       [1, 1, 1]])"
            ]
          },
          "metadata": {},
          "execution_count": 11
        }
      ],
      "source": [
        "array = np.full((4, 3), 8)\n",
        "new_array = np.ones_like(array)\n",
        "new_array"
      ]
    },
    {
      "cell_type": "markdown",
      "metadata": {
        "id": "2kM0RDBkxDqq"
      },
      "source": [
        "###6. Convert to NumPy array"
      ]
    },
    {
      "cell_type": "code",
      "execution_count": 12,
      "metadata": {
        "colab": {
          "base_uri": "https://localhost:8080/"
        },
        "id": "VxfYhls4xHtI",
        "outputId": "ce21623c-7e9a-47ea-a796-eb84029f29d5"
      },
      "outputs": [
        {
          "output_type": "stream",
          "name": "stdout",
          "text": [
            "Normal List:  [1, 2, 3, 4]\n",
            "Numpy List:  [1 2 3 4]\n"
          ]
        }
      ],
      "source": [
        "new_list = [1, 2, 3, 4]\n",
        "np_list = np.array(new_list)\n",
        "print(\"Normal List: \", new_list)\n",
        "print(\"Numpy List: \", np_list)"
      ]
    },
    {
      "cell_type": "markdown",
      "metadata": {
        "id": "nPBkNM7ZxbWO"
      },
      "source": [
        "##Problem - 2: Array Manipulation: Numerical Ranges and Array Indexing"
      ]
    },
    {
      "cell_type": "markdown",
      "metadata": {
        "id": "tvT0AZMSyCpO"
      },
      "source": [
        "###1. Create an array with values ranging from 10 to 49"
      ]
    },
    {
      "cell_type": "code",
      "execution_count": 13,
      "metadata": {
        "colab": {
          "base_uri": "https://localhost:8080/"
        },
        "id": "cyJQwTDUxaJO",
        "outputId": "07388b1f-f220-4d32-bf5f-c9272658bbb6"
      },
      "outputs": [
        {
          "output_type": "execute_result",
          "data": {
            "text/plain": [
              "array([10, 11, 12, 13, 14, 15, 16, 17, 18, 19, 20, 21, 22, 23, 24, 25, 26,\n",
              "       27, 28, 29, 30, 31, 32, 33, 34, 35, 36, 37, 38, 39, 40, 41, 42, 43,\n",
              "       44, 45, 46, 47, 48, 49])"
            ]
          },
          "metadata": {},
          "execution_count": 13
        }
      ],
      "source": [
        "array = np.arange(10, 50)\n",
        "array"
      ]
    },
    {
      "cell_type": "markdown",
      "metadata": {
        "id": "Y-M5n2shy1ad"
      },
      "source": [
        "###2. Create a 3X3 matrix with values ranging from 0 to 8"
      ]
    },
    {
      "cell_type": "code",
      "execution_count": 14,
      "metadata": {
        "colab": {
          "base_uri": "https://localhost:8080/"
        },
        "id": "9Kxd1jnVyNYl",
        "outputId": "a9f497c7-f8fc-46ef-c1e9-c28a530c71f0"
      },
      "outputs": [
        {
          "output_type": "stream",
          "name": "stdout",
          "text": [
            "[0 1 2 3 4 5 6 7 8]\n",
            "[[0 1 2]\n",
            " [3 4 5]\n",
            " [6 7 8]]\n"
          ]
        }
      ],
      "source": [
        "array = np.arange(0, 9)\n",
        "reshaped = np.reshape(array, (3, 3))\n",
        "print(array)\n",
        "print(reshaped)"
      ]
    },
    {
      "cell_type": "markdown",
      "metadata": {
        "id": "Tao14ESa0dVu"
      },
      "source": [
        "###3. Create a 3*3 identity matrix"
      ]
    },
    {
      "cell_type": "code",
      "execution_count": 15,
      "metadata": {
        "colab": {
          "base_uri": "https://localhost:8080/"
        },
        "id": "4uX8om2H0c_W",
        "outputId": "6f3b2e90-6859-4b9a-acfe-c9c1129cb180"
      },
      "outputs": [
        {
          "output_type": "execute_result",
          "data": {
            "text/plain": [
              "array([[1, 0, 0],\n",
              "       [0, 1, 0],\n",
              "       [0, 0, 1]])"
            ]
          },
          "metadata": {},
          "execution_count": 15
        }
      ],
      "source": [
        "array = np.eye(3, dtype=int)\n",
        "array"
      ]
    },
    {
      "cell_type": "markdown",
      "metadata": {
        "id": "LW9MdaH_02pa"
      },
      "source": [
        "###4. Random Array Size 30 and Mean"
      ]
    },
    {
      "cell_type": "code",
      "execution_count": 16,
      "metadata": {
        "colab": {
          "base_uri": "https://localhost:8080/"
        },
        "id": "l4ULKFSd0xLi",
        "outputId": "515a6652-a4c8-45ea-ea49-1e31ea43d450"
      },
      "outputs": [
        {
          "output_type": "stream",
          "name": "stdout",
          "text": [
            "[0.48805522 0.3283804  0.5516419  0.27518501 0.72231566 0.46915415\n",
            " 0.10101993 0.67113209 0.77322739 0.41294299 0.90668634 0.10264411\n",
            " 0.482323   0.69149765 0.63790128 0.18062457 0.89415753 0.51565466\n",
            " 0.74151858 0.41187509 0.45544561 0.99806441 0.01201314 0.57103502\n",
            " 0.13955009 0.11300811 0.55188567 0.3902955  0.98572201 0.57677446]\n",
            "Mean:  0.5050577185398658\n"
          ]
        }
      ],
      "source": [
        "random_arr = np.random.random(30)\n",
        "\n",
        "mean_arr = random_arr.mean()\n",
        "\n",
        "print(random_arr)\n",
        "print(\"Mean: \", mean_arr)"
      ]
    },
    {
      "cell_type": "markdown",
      "metadata": {
        "id": "qRxQIR5L3BwW"
      },
      "source": [
        "###5. Create a 10X10 array with random values and find the minimum and maximum values"
      ]
    },
    {
      "cell_type": "code",
      "execution_count": 17,
      "metadata": {
        "colab": {
          "base_uri": "https://localhost:8080/"
        },
        "id": "bRPeMC8w3BUa",
        "outputId": "aa9038d0-16e3-47c9-a25a-d5f7e1bd2c51"
      },
      "outputs": [
        {
          "output_type": "stream",
          "name": "stdout",
          "text": [
            "[[1 2 6 6 2 1 6 9 1 7]\n",
            " [2 2 1 8 6 8 1 6 9 1]\n",
            " [2 3 7 8 1 6 5 6 9 7]\n",
            " [7 6 7 9 4 1 9 8 6 3]\n",
            " [6 9 1 2 5 6 5 3 5 3]\n",
            " [7 2 3 3 5 2 2 7 7 3]\n",
            " [6 7 5 1 1 8 4 3 9 5]\n",
            " [9 9 5 4 8 9 8 4 1 4]\n",
            " [3 8 7 4 4 3 2 9 7 9]\n",
            " [5 6 5 9 8 9 7 4 9 3]]\n",
            "\n",
            "Min:  1\n",
            "Max:  9\n"
          ]
        }
      ],
      "source": [
        "# random_arr = np.random.random((10, 10))\n",
        "random_arr = np.random.randint(1, 10, (10, 10))\n",
        "min = random_arr.min()\n",
        "max = random_arr.max()\n",
        "\n",
        "print(random_arr)\n",
        "print()\n",
        "print(\"Min: \", min)\n",
        "print(\"Max: \", max)"
      ]
    },
    {
      "cell_type": "markdown",
      "metadata": {
        "id": "WtMi6wc54WZb"
      },
      "source": [
        "###6. Create a zero array of size 10 and replace 5th element with 1"
      ]
    },
    {
      "cell_type": "code",
      "execution_count": 18,
      "metadata": {
        "colab": {
          "base_uri": "https://localhost:8080/"
        },
        "id": "T6xfd6br4asL",
        "outputId": "ac92239c-eefc-4b65-c184-60ffac048a88"
      },
      "outputs": [
        {
          "output_type": "stream",
          "name": "stdout",
          "text": [
            "[0 0 0 0 0 0 0 0 0 0]\n",
            "[0 0 0 0 1 0 0 0 0 0]\n"
          ]
        }
      ],
      "source": [
        "array = np.zeros(10, dtype=int)\n",
        "print(array)\n",
        "array[4] = 1\n",
        "print(array)"
      ]
    },
    {
      "cell_type": "markdown",
      "metadata": {
        "id": "QyWBuLHC4xIe"
      },
      "source": [
        "###7. Reverse an array"
      ]
    },
    {
      "cell_type": "code",
      "execution_count": 19,
      "metadata": {
        "colab": {
          "base_uri": "https://localhost:8080/"
        },
        "id": "a08igI7B71NR",
        "outputId": "d4761295-839c-4af4-becb-8700db1ea802"
      },
      "outputs": [
        {
          "output_type": "execute_result",
          "data": {
            "text/plain": [
              "[1, 5, 3, 0, 0, 1]"
            ]
          },
          "metadata": {},
          "execution_count": 19
        }
      ],
      "source": [
        "array = [1 , 0, 0, 3, 5, 1]\n",
        "rev_arr = array[::-1]\n",
        "rev_arr"
      ]
    },
    {
      "cell_type": "markdown",
      "metadata": {
        "id": "I0dQpnBk8F5m"
      },
      "source": [
        "###8. Create a 2d array with 1 on border and 0 inside"
      ]
    },
    {
      "cell_type": "code",
      "execution_count": 20,
      "metadata": {
        "colab": {
          "base_uri": "https://localhost:8080/"
        },
        "id": "_quSK1qs8Lrs",
        "outputId": "d7d3c22d-1c87-4b4b-bb41-a86340325f7c"
      },
      "outputs": [
        {
          "output_type": "execute_result",
          "data": {
            "text/plain": [
              "array([[1, 0, 0, 0, 0, 0, 1],\n",
              "       [1, 0, 0, 0, 0, 0, 1],\n",
              "       [1, 0, 0, 0, 0, 0, 1],\n",
              "       [1, 0, 0, 0, 0, 0, 1],\n",
              "       [1, 0, 0, 0, 0, 0, 1],\n",
              "       [1, 0, 0, 0, 0, 0, 1],\n",
              "       [1, 1, 1, 1, 1, 1, 1]])"
            ]
          },
          "metadata": {},
          "execution_count": 20
        }
      ],
      "source": [
        "arr = np.random.randint(1, 10, (7, 7))\n",
        "\n",
        "# arr = np.zeros_like(arr)\n",
        "arr[0, :] = 1\n",
        "arr[-1, :] = 1\n",
        "arr[:, 0] = 1\n",
        "arr[:, -1] = 1\n",
        "\n",
        "arr[0:-1, 1:-1] = 0\n",
        "\n",
        "arr"
      ]
    },
    {
      "cell_type": "markdown",
      "metadata": {
        "id": "wh0jVCsHBmgY"
      },
      "source": [
        "###9. Create a 8X8 matrix and fill it with a checkerboard pattern"
      ]
    },
    {
      "cell_type": "code",
      "execution_count": 21,
      "metadata": {
        "colab": {
          "base_uri": "https://localhost:8080/"
        },
        "id": "sBIudlc6CHaM",
        "outputId": "6641b843-c1e9-4720-ecc2-8b22ed6d416b"
      },
      "outputs": [
        {
          "output_type": "execute_result",
          "data": {
            "text/plain": [
              "array([[0, 1, 0, 1, 0, 1, 0, 1, 0],\n",
              "       [1, 0, 1, 0, 1, 0, 1, 0, 1],\n",
              "       [0, 1, 0, 1, 0, 1, 0, 1, 0],\n",
              "       [1, 0, 1, 0, 1, 0, 1, 0, 1],\n",
              "       [0, 1, 0, 1, 0, 1, 0, 1, 0],\n",
              "       [1, 0, 1, 0, 1, 0, 1, 0, 1],\n",
              "       [0, 1, 0, 1, 0, 1, 0, 1, 0],\n",
              "       [1, 0, 1, 0, 1, 0, 1, 0, 1],\n",
              "       [0, 1, 0, 1, 0, 1, 0, 1, 0]])"
            ]
          },
          "metadata": {},
          "execution_count": 21
        }
      ],
      "source": [
        "array = np.zeros((9, 9), dtype=int)\n",
        "\n",
        "array[1::2, 0::2] = 1\n",
        "array[::2, 1::2] = 1\n",
        "array"
      ]
    },
    {
      "cell_type": "markdown",
      "metadata": {
        "id": "08ArRNw3WRRK"
      },
      "source": [
        "##Problem - 3: Array Operations"
      ]
    },
    {
      "cell_type": "code",
      "execution_count": 22,
      "metadata": {
        "id": "kopYagIcWT5T"
      },
      "outputs": [],
      "source": [
        "x = np.array([[1, 2], [3, 5]])\n",
        "y = np.array([[5, 6], [7, 8]])\n",
        "v = np.array([9, 10])\n",
        "w = np.array([11, 12])"
      ]
    },
    {
      "cell_type": "markdown",
      "metadata": {
        "id": "Poa4jtH7hZoI"
      },
      "source": [
        "###1. Add Arrays"
      ]
    },
    {
      "cell_type": "code",
      "execution_count": 23,
      "metadata": {
        "colab": {
          "base_uri": "https://localhost:8080/"
        },
        "id": "M_yKg4ITZppN",
        "outputId": "f963352c-0dc2-4622-c4c7-11dc441f6bf3"
      },
      "outputs": [
        {
          "output_type": "stream",
          "name": "stdout",
          "text": [
            "[[ 6  8]\n",
            " [10 13]]\n",
            "\n",
            "[20 22]\n"
          ]
        }
      ],
      "source": [
        "sum = x + y\n",
        "sum1 = v + w\n",
        "print(sum)\n",
        "print()\n",
        "print(sum1)"
      ]
    },
    {
      "cell_type": "markdown",
      "metadata": {
        "id": "CFsCnFnZhm-w"
      },
      "source": [
        "###2. Subtract Arrays"
      ]
    },
    {
      "cell_type": "code",
      "execution_count": 24,
      "metadata": {
        "colab": {
          "base_uri": "https://localhost:8080/"
        },
        "id": "6q84oJhZhjph",
        "outputId": "6ab10d2b-e472-4683-b27c-bfa27c09ad42"
      },
      "outputs": [
        {
          "output_type": "stream",
          "name": "stdout",
          "text": [
            "[[-4 -4]\n",
            " [-4 -3]]\n",
            "\n",
            "[-2 -2]\n"
          ]
        }
      ],
      "source": [
        "sub = x - y\n",
        "sub1 = v - w\n",
        "print(sub)\n",
        "print()\n",
        "print(sub1)"
      ]
    },
    {
      "cell_type": "markdown",
      "metadata": {
        "id": "ZhwWzHKSh0K-"
      },
      "source": [
        "###3. Multiply Array With Integer"
      ]
    },
    {
      "cell_type": "code",
      "execution_count": 25,
      "metadata": {
        "colab": {
          "base_uri": "https://localhost:8080/"
        },
        "id": "ayf4SeObh5pg",
        "outputId": "b8508e16-2bac-4628-9698-7912b0649811"
      },
      "outputs": [
        {
          "output_type": "execute_result",
          "data": {
            "text/plain": [
              "array([[ 7, 14],\n",
              "       [21, 35]])"
            ]
          },
          "metadata": {},
          "execution_count": 25
        }
      ],
      "source": [
        "mulArr = 7 * x\n",
        "mulArr"
      ]
    },
    {
      "cell_type": "markdown",
      "metadata": {
        "id": "x3QmPXefiE4a"
      },
      "source": [
        "###4. Square of Each Element of Array"
      ]
    },
    {
      "cell_type": "code",
      "execution_count": 26,
      "metadata": {
        "colab": {
          "base_uri": "https://localhost:8080/"
        },
        "id": "alUtkSiUiIZp",
        "outputId": "210f9d27-7083-4310-c1cd-0bddc023a84b"
      },
      "outputs": [
        {
          "output_type": "execute_result",
          "data": {
            "text/plain": [
              "array([[ 1,  4],\n",
              "       [ 9, 25]])"
            ]
          },
          "metadata": {},
          "execution_count": 26
        }
      ],
      "source": [
        "powArr = x ** 2\n",
        "powArr"
      ]
    },
    {
      "cell_type": "markdown",
      "metadata": {
        "id": "F9-BU9j8iQQ5"
      },
      "source": [
        "###5. Dot Product"
      ]
    },
    {
      "cell_type": "code",
      "execution_count": 27,
      "metadata": {
        "colab": {
          "base_uri": "https://localhost:8080/"
        },
        "id": "xmLoGkcaiTl2",
        "outputId": "b360cd55-551a-41ee-ff31-8159b430fa9c"
      },
      "outputs": [
        {
          "output_type": "stream",
          "name": "stdout",
          "text": [
            "V.W: 219\n",
            "X.V: [29 77]\n",
            "X.Y: \n",
            "[[19 22]\n",
            " [50 58]]\n"
          ]
        }
      ],
      "source": [
        "vDotw = np.dot(v, w)\n",
        "xDotv = np.dot(x, v)\n",
        "xDoty = np.dot(x, y)\n",
        "\n",
        "print(f\"V.W: {vDotw}\")\n",
        "print(f\"X.V: {xDotv}\")\n",
        "print(f\"X.Y: \\n{xDoty}\")"
      ]
    },
    {
      "cell_type": "markdown",
      "metadata": {
        "id": "lIfvVtE3jN4i"
      },
      "source": [
        "###6. Concatenate - 1"
      ]
    },
    {
      "cell_type": "code",
      "execution_count": 28,
      "metadata": {
        "colab": {
          "base_uri": "https://localhost:8080/"
        },
        "id": "b5a-KlsLixds",
        "outputId": "743cf870-9470-43cf-96d7-daf7b25740bb"
      },
      "outputs": [
        {
          "output_type": "stream",
          "name": "stdout",
          "text": [
            "[[1 2]\n",
            " [3 5]\n",
            " [5 6]\n",
            " [7 8]]\n",
            "\n",
            "[[ 9 10]\n",
            " [11 12]]\n"
          ]
        }
      ],
      "source": [
        "conxy = np.concatenate((x, y), axis = 0)\n",
        "convw = np.vstack((v, w))\n",
        "print(conxy)\n",
        "print()\n",
        "print(convw)"
      ]
    },
    {
      "cell_type": "markdown",
      "metadata": {
        "id": "nOQMjHVolJk7"
      },
      "source": [
        "###7. Concatenate - 2 (Dimension Mismatch)"
      ]
    },
    {
      "cell_type": "code",
      "execution_count": 29,
      "metadata": {
        "colab": {
          "base_uri": "https://localhost:8080/",
          "height": 193
        },
        "id": "ZWQBcb1Qklwz",
        "outputId": "d0fb3853-6fb3-499f-ea9d-9110f8398a5a"
      },
      "outputs": [
        {
          "output_type": "error",
          "ename": "ValueError",
          "evalue": "all the input arrays must have same number of dimensions, but the array at index 0 has 2 dimension(s) and the array at index 1 has 1 dimension(s)",
          "traceback": [
            "\u001b[0;31m---------------------------------------------------------------------------\u001b[0m",
            "\u001b[0;31mValueError\u001b[0m                                Traceback (most recent call last)",
            "\u001b[0;32m<ipython-input-29-ee772db1a997>\u001b[0m in \u001b[0;36m<cell line: 0>\u001b[0;34m()\u001b[0m\n\u001b[0;32m----> 1\u001b[0;31m \u001b[0mconxv\u001b[0m \u001b[0;34m=\u001b[0m \u001b[0mnp\u001b[0m\u001b[0;34m.\u001b[0m\u001b[0mconcatenate\u001b[0m\u001b[0;34m(\u001b[0m\u001b[0;34m(\u001b[0m\u001b[0mx\u001b[0m\u001b[0;34m,\u001b[0m \u001b[0mv\u001b[0m\u001b[0;34m)\u001b[0m\u001b[0;34m,\u001b[0m \u001b[0maxis\u001b[0m \u001b[0;34m=\u001b[0m \u001b[0;36m0\u001b[0m\u001b[0;34m)\u001b[0m\u001b[0;34m\u001b[0m\u001b[0;34m\u001b[0m\u001b[0m\n\u001b[0m\u001b[1;32m      2\u001b[0m \u001b[0mconxv\u001b[0m\u001b[0;34m\u001b[0m\u001b[0;34m\u001b[0m\u001b[0m\n\u001b[1;32m      3\u001b[0m \u001b[0;31m##This cause error because the arrays should have the same number of dimensions\u001b[0m\u001b[0;34m\u001b[0m\u001b[0;34m\u001b[0m\u001b[0m\n\u001b[1;32m      4\u001b[0m \u001b[0;31m#x is a 2D array where as v is a 1D array\u001b[0m\u001b[0;34m\u001b[0m\u001b[0;34m\u001b[0m\u001b[0m\n",
            "\u001b[0;31mValueError\u001b[0m: all the input arrays must have same number of dimensions, but the array at index 0 has 2 dimension(s) and the array at index 1 has 1 dimension(s)"
          ]
        }
      ],
      "source": [
        "conxv = np.concatenate((x, v), axis = 0)\n",
        "conxv\n",
        "##This cause error because the arrays should have the same number of dimensions\n",
        "#x is a 2D array where as v is a 1D array"
      ]
    },
    {
      "cell_type": "markdown",
      "metadata": {
        "id": "oWh3SQf0lP0t"
      },
      "source": [
        "##Problem - 4: Matrix Operations"
      ]
    },
    {
      "cell_type": "code",
      "execution_count": null,
      "metadata": {
        "id": "Y3ihJUwjktpV"
      },
      "outputs": [],
      "source": [
        "A = np.array([[3, 4], [7, 8]])\n",
        "B = np.array([[5, 3], [2, 1]])"
      ]
    },
    {
      "cell_type": "markdown",
      "metadata": {
        "id": "9kPjHj2Vm_OT"
      },
      "source": [
        "###1. A.A^-1 = I"
      ]
    },
    {
      "cell_type": "code",
      "execution_count": null,
      "metadata": {
        "id": "gndPbgFsmhsl"
      },
      "outputs": [],
      "source": [
        "A_Inverse = np.linalg.inv(A)\n",
        "proof = np.round(np.matmul(A, A_Inverse))\n",
        "proof"
      ]
    },
    {
      "cell_type": "markdown",
      "metadata": {
        "id": "3GaDIdKqnHCg"
      },
      "source": [
        "###2. AB != BA"
      ]
    },
    {
      "cell_type": "code",
      "execution_count": null,
      "metadata": {
        "id": "ui6GTLxEnKS-"
      },
      "outputs": [],
      "source": [
        "AB = np.matmul(A, B)\n",
        "BA = np.matmul(B, A)\n",
        "\n",
        "print(f\"AB:\\n{AB} \\nBA:\\n{BA}\")"
      ]
    },
    {
      "cell_type": "markdown",
      "metadata": {
        "id": "AE_8AaRcnKpW"
      },
      "source": [
        "###3. (AB)T = BT.AT"
      ]
    },
    {
      "cell_type": "code",
      "execution_count": null,
      "metadata": {
        "id": "KkCsk7denRT6"
      },
      "outputs": [],
      "source": [
        "AB = np.matmul(A, B)\n",
        "AB_T = AB.T\n",
        "B_T = B.T\n",
        "A_T = A.T\n",
        "B_T_Dot_A_T = np.matmul(B_T, A_T)\n",
        "\n",
        "print(f\"AB_T: \\n{AB_T} \\n\\n B_T.A_T: \\n{B_T_Dot_A_T}\")"
      ]
    },
    {
      "cell_type": "markdown",
      "metadata": {
        "id": "W-cNX-1tpmxB"
      },
      "source": [
        "###Linear Equation Using Inverse Method"
      ]
    },
    {
      "cell_type": "code",
      "execution_count": null,
      "metadata": {
        "id": "7dQxuMsVpmdZ"
      },
      "outputs": [],
      "source": [
        "A = np.array([[2, -3, 1],\n",
        "              [1, -1, 2],\n",
        "              [3, 1,  -1]])\n",
        "B = np.array([-1, -3, 9])\n",
        "\n",
        "A_Inverse = np.linalg.inv(A)\n",
        "\n",
        "X = np.matmul(A_Inverse, B)\n",
        "\n",
        "print(f\"[x y z] = {X}\")"
      ]
    },
    {
      "cell_type": "markdown",
      "metadata": {
        "id": "PH8k30IUqonM"
      },
      "source": [
        "##Numpy Speed"
      ]
    },
    {
      "cell_type": "code",
      "execution_count": null,
      "metadata": {
        "id": "BS_JawrEqtE9"
      },
      "outputs": [],
      "source": [
        "import numpy as np\n",
        "import time\n",
        "import scipy.sparse as sparse\n",
        "import builtins\n",
        "\n",
        "size = 1000000\n",
        "matrices = 1000\n",
        "\n",
        "# Create Python lists and NumPy arrays\n",
        "pyArr1 = list(range(size))\n",
        "pyArr2 = list(range(size))\n",
        "npArr1 = np.arange(size)\n",
        "npArr2 = np.arange(size)\n",
        "\n",
        "# Time addition\n",
        "sTime = time.time()\n",
        "pySum = [pyArr1[i] + pyArr2[i] for i in range(size)]\n",
        "pyTimeAdd = time.time() - sTime\n",
        "\n",
        "sTime = time.time()\n",
        "npSum = npArr1 + npArr2\n",
        "npTimeAdd = time.time() - sTime\n",
        "\n",
        "print(f\"Addition Time: \\nNumpy: {npTimeAdd:.5f} \\nNormal Py list: {pyTimeAdd:.5f}\\n\")\n",
        "\n",
        "# Time element-wise multiplication\n",
        "sTime = time.time()\n",
        "pyMul = [pyArr1[i] * pyArr2[i] for i in range(size)]\n",
        "pyTimeMul = time.time() - sTime\n",
        "\n",
        "sTime = time.time()\n",
        "npMul = npArr1 * npArr2\n",
        "npTimeMul = time.time() - sTime\n",
        "\n",
        "print(f\"Element Multiplication Time: \\nNumpy: {npTimeMul:.5f} \\nNormal Py list: {pyTimeMul:.5f}\\n\")\n",
        "\n",
        "# Time dot product\n",
        "sTime = time.time()\n",
        "pyDot = builtins.sum(pyArr1[i] * pyArr2[i] for i in range(size))  # Use builtins.sum to avoid issues\n",
        "pyTimeDot = time.time() - sTime\n",
        "\n",
        "sTime = time.time()\n",
        "npDot = np.dot(npArr1, npArr2)\n",
        "npTimeDot = time.time() - sTime\n",
        "\n",
        "print(f\"Dot Product Time: \\nNumpy: {npTimeDot:.5f} \\nNormal Py list: {pyTimeDot:.5f}\\n\")\n",
        "\n",
        "# Create Python and NumPy matrices\n",
        "pyMat1 = [[j for j in range(matrices)] for i in range(matrices)]\n",
        "pyMat2 = [[j for j in range(matrices)] for i in range(matrices)]\n",
        "\n",
        "# Use sparse matrices to save memory\n",
        "npMat1 = sparse.csr_matrix(np.arange(matrices**2).reshape(matrices, matrices))\n",
        "npMat2 = sparse.csr_matrix(np.arange(matrices**2).reshape(matrices, matrices))\n",
        "\n",
        "# Time matrix multiplication\n",
        "sTime = time.time()\n",
        "pyMatMul = [[builtins.sum(pyMat1[i][k] * pyMat2[k][j] for k in range(matrices)) for j in range(matrices)] for i in range(matrices)]\n",
        "pyTimeMatMul = time.time() - sTime\n",
        "\n",
        "sTime = time.time()\n",
        "npMatMul = npMat1 @ npMat2  # Use sparse matrix multiplication\n",
        "npTimeMatMul = time.time() - sTime\n",
        "\n",
        "print(f\"Matrix Multiplication Time: \\nNumpy: {npTimeMatMul:.5f} \\nNormal Py list: {pyTimeMatMul:.5f}\\n\")\n"
      ]
    },
    {
      "cell_type": "markdown",
      "source": [
        "# 4.1 Exercise on Functions:\n"
      ],
      "metadata": {
        "id": "iRCMq7XsLDZD"
      }
    },
    {
      "cell_type": "markdown",
      "source": [
        "**Task - 1:**\n",
        "\n"
      ],
      "metadata": {
        "id": "HazRFB7lLLWa"
      }
    },
    {
      "cell_type": "code",
      "source": [
        "def convert(value, from_unit, to_unit):\n",
        "    \"\"\"\n",
        "    Generic converter for length, weight, and volume.\n",
        "\n",
        "    Parameters:\n",
        "    value (float): The numeric value to convert.\n",
        "    from_unit (str): The unit to convert from.\n",
        "    to_unit (str): The unit to convert to.\n",
        "\n",
        "    Returns:\n",
        "    float: The converted value.\n",
        "    \"\"\"\n",
        "    conversions = {\n",
        "        ('m', 'ft'): 3.28084,\n",
        "        ('ft', 'm'): 1 / 3.28084,\n",
        "        ('kg', 'lbs'): 2.20462,\n",
        "        ('lbs', 'kg'): 1 / 2.20462,\n",
        "        ('l', 'gal'): 0.264172,\n",
        "        ('gal', 'l'): 1 / 0.264172\n",
        "    }\n",
        "\n",
        "    if (from_unit, to_unit) in conversions:\n",
        "        return value * conversions[(from_unit, to_unit)]\n",
        "    else:\n",
        "        raise ValueError(\"Unsupported conversion.\")\n",
        "\n",
        "\n",
        "def main():\n",
        "    print(\"Unit Conversion Program\")\n",
        "    print(\"1. Length (meters <-> feet)\")\n",
        "    print(\"2. Weight (kilograms <-> pounds)\")\n",
        "    print(\"3. Volume (liters <-> gallons)\")\n",
        "\n",
        "    try:\n",
        "        choice = input(\"Enter your choice (1/2/3): \")\n",
        "\n",
        "        units = {\n",
        "            '1': ('m', 'ft'),\n",
        "            '2': ('kg', 'lbs'),\n",
        "            '3': ('l', 'gal')\n",
        "        }\n",
        "\n",
        "        if choice not in units:\n",
        "            print(\"Invalid choice. Please enter 1, 2, or 3.\")\n",
        "            return\n",
        "\n",
        "        from_unit = input(f\"Convert from {units[choice][0]} or {units[choice][1]}: \").strip().lower()\n",
        "        if from_unit not in units[choice]:\n",
        "            print(\"Invalid unit.\")\n",
        "            return\n",
        "\n",
        "        to_unit = units[choice][1] if from_unit == units[choice][0] else units[choice][0]\n",
        "\n",
        "        value = float(input(f\"Enter the value in {from_unit}: \"))\n",
        "\n",
        "        result = convert(value, from_unit, to_unit)\n",
        "        print(f\"{value} {from_unit} is equal to {result:.2f} {to_unit}\")\n",
        "\n",
        "    except ValueError:\n",
        "        print(\"Please enter a valid number.\")\n",
        "    except Exception as e:\n",
        "        print(f\"Unexpected error: {e}\")\n",
        "\n",
        "\n",
        "if __name__ == \"__main__\":\n",
        "    main()\n"
      ],
      "metadata": {
        "id": "vpMs6Jg1LtQh"
      },
      "execution_count": null,
      "outputs": []
    },
    {
      "cell_type": "markdown",
      "source": [
        "**Task2**"
      ],
      "metadata": {
        "id": "WLSAIzIbNiJ8"
      }
    },
    {
      "cell_type": "code",
      "source": [
        "import numpy as np\n",
        "\n",
        "def find_sum(numbers):\n",
        "    \"\"\"\n",
        "    Calculate the sum of a list of numbers.\n",
        "\n",
        "    Parameters:\n",
        "    numbers (list): A list of numbers.\n",
        "\n",
        "    Returns:\n",
        "    float: The sum of the numbers.\n",
        "    \"\"\"\n",
        "    return np.sum(numbers)  # Use numpy sum\n",
        "\n",
        "def find_average(numbers):\n",
        "    \"\"\"\n",
        "    Calculate the average of a list of numbers.\n",
        "\n",
        "    Parameters:\n",
        "    numbers (list): A list of numbers.\n",
        "\n",
        "    Returns:\n",
        "    float: The average of the numbers.\n",
        "    \"\"\"\n",
        "    return np.mean(numbers)  # Use numpy mean\n",
        "\n",
        "def find_maximum(numbers):\n",
        "    \"\"\"\n",
        "    Find the maximum value in a list of numbers.\n",
        "\n",
        "    Parameters:\n",
        "    numbers (list): A list of numbers.\n",
        "\n",
        "    Returns:\n",
        "    float: The maximum value.\n",
        "    \"\"\"\n",
        "    return np.max(numbers)  # Use numpy max\n",
        "\n",
        "def find_minimum(numbers):\n",
        "    \"\"\"\n",
        "    Find the minimum value in a list of numbers.\n",
        "\n",
        "    Parameters:\n",
        "    numbers (list): A list of numbers.\n",
        "\n",
        "    Returns:\n",
        "    float: The minimum value.\n",
        "    \"\"\"\n",
        "    return np.min(numbers)  # Use numpy min\n",
        "\n",
        "\n",
        "\n",
        "def main():\n",
        "    print(\"Mathematical Operations on a List of Numbers\")\n",
        "    print(\"1. Find Sum\")\n",
        "    print(\"2. Find Average\")\n",
        "    print(\"3. Find Maximum\")\n",
        "    print(\"4. Find Minimum\")\n",
        "\n",
        "    try:\n",
        "        # Get the operation choice\n",
        "        choice = input(\"Choose an operation (1/2/3/4): \")\n",
        "\n",
        "        # Check if the choice is valid\n",
        "        if choice not in ['1', '2', '3', '4']:\n",
        "            print(\"Invalid choice. Please choose 1, 2, 3, or 4.\")\n",
        "            return\n",
        "\n",
        "        # Get the list of numbers\n",
        "        numbers_input = input(\"Enter a list of numbers separated by spaces: \").strip()\n",
        "\n",
        "        if not numbers_input:\n",
        "            raise ValueError(\"No numbers entered. Please provide a valid list of numbers.\")\n",
        "\n",
        "        # Convert the input to a list of floats\n",
        "        numbers = [float(num) for num in numbers_input.split()]\n",
        "\n",
        "        if len(numbers) == 0:\n",
        "            raise ValueError(\"The list is empty. Please enter at least one number.\")\n",
        "\n",
        "        print(f\"Operation: {choice}\")\n",
        "        print(f\"Numbers entered: {numbers}\")\n",
        "\n",
        "        # Perform the chosen operation\n",
        "        if choice == '1':\n",
        "            result = find_sum(numbers)\n",
        "            print(f\"The sum of the numbers is: {result}\")\n",
        "        elif choice == '2':\n",
        "            result = find_average(numbers)\n",
        "            print(f\"The average of the numbers is: {result}\")\n",
        "        elif choice == '3':\n",
        "            result = find_maximum(numbers)\n",
        "            print(f\"The maximum value is: {result}\")\n",
        "        elif choice == '4':\n",
        "            result = find_minimum(numbers)\n",
        "            print(f\"The minimum value is: {result}\")\n",
        "\n",
        "    except ValueError as ve:\n",
        "        print(f\"Error: {ve}\")\n",
        "    except Exception as e:\n",
        "        print(f\"Unexpected error: {e}\")\n",
        "\n",
        "\n",
        "if __name__ == \"__main__\":\n",
        "    main()\n"
      ],
      "metadata": {
        "id": "zO8OVhpqNrR1"
      },
      "execution_count": null,
      "outputs": []
    },
    {
      "cell_type": "markdown",
      "source": [
        "# 4.2 Exercise on List Manipulation:"
      ],
      "metadata": {
        "id": "Dj3NvT85Rq97"
      }
    },
    {
      "cell_type": "markdown",
      "source": [
        "**1. Extract Every Other Element:**"
      ],
      "metadata": {
        "id": "jMib3lwCR2mg"
      }
    },
    {
      "cell_type": "code",
      "source": [
        "#extract every other element\n",
        "\n",
        "def extract_every_other(lst):\n",
        "    \"\"\"\n",
        "    Extract every other element from the list, starting from the first element.\n",
        "\n",
        "    Parameters:\n",
        "    lst (list): The list from which to extract every other element.\n",
        "\n",
        "    Returns:\n",
        "    list: A new list containing every other element from the original list.\n",
        "    \"\"\"\n",
        "    return lst[::2]  # Using list slicing to extract every other element\n",
        "\n",
        "# Taking input from the user\n",
        "user_input = input(\"Enter a list of numbers separated by spaces: \")\n",
        "lst = [int(num) for num in user_input.split()]\n",
        "\n",
        "# Calling the function and displaying the result\n",
        "result = extract_every_other(lst)\n",
        "print(\"Every other element:\", result)\n"
      ],
      "metadata": {
        "id": "cpIsO8zmRzT2"
      },
      "execution_count": null,
      "outputs": []
    },
    {
      "cell_type": "markdown",
      "source": [
        "**2. Slice a Sublist:**"
      ],
      "metadata": {
        "id": "5uBugn9DT8h7"
      }
    },
    {
      "cell_type": "code",
      "source": [
        "#2. Slice a Sublist:\n",
        "\n",
        "def get_sublist(lst, start, end):\n",
        "    \"\"\"\n",
        "    Returns a sublist from the given list, starting from the 'start' index and ending at the 'end' index (inclusive).\n",
        "\n",
        "    Parameters:\n",
        "    lst (list): The list to slice.\n",
        "    start (int): The starting index (inclusive).\n",
        "    end (int): The ending index (inclusive).\n",
        "\n",
        "    Returns:\n",
        "    list: A sublist from the 'start' to 'end' indices.\n",
        "    \"\"\"\n",
        "    return lst[start:end+1]  # Slicing from start to end (inclusive)\n",
        "\n",
        "# Example usage:\n",
        "lst = [1, 2, 3, 4, 5, 6]\n",
        "start = input(\"Enter the start index: \")\n",
        "end = input(\"Enter the end index: \")\n",
        "\n",
        "# Convert start and end to integers\n",
        "start = int(start)\n",
        "end = int(end)\n",
        "result = get_sublist(lst, start, end)\n",
        "print(result)\n"
      ],
      "metadata": {
        "id": "6yBnKJssULHi"
      },
      "execution_count": null,
      "outputs": []
    },
    {
      "cell_type": "markdown",
      "source": [
        "**3. Reverse a List Using Slicing:**"
      ],
      "metadata": {
        "id": "H4apBLgSUq3t"
      }
    },
    {
      "cell_type": "code",
      "source": [
        "# Reverse a List Using Slicing\n",
        "def reverse_list(lst):\n",
        "    \"\"\"\n",
        "    Reverses the given list using slicing.\n",
        "\n",
        "    Parameters:\n",
        "    lst (list): The list to reverse.\n",
        "\n",
        "    Returns:\n",
        "    list: The reversed list.\n",
        "    \"\"\"\n",
        "    return lst[::-1]  # Using slicing to reverse the list\n",
        "\n",
        "\n",
        "lst = [1, 2, 3, 4, 5]\n",
        "result = reverse_list(lst)\n",
        "print(result)\n"
      ],
      "metadata": {
        "id": "47u4OUmnUzF7"
      },
      "execution_count": null,
      "outputs": []
    },
    {
      "cell_type": "markdown",
      "source": [
        "**4. Remove the First and Last Elements:**"
      ],
      "metadata": {
        "id": "QJw9yz_oXAEr"
      }
    },
    {
      "cell_type": "code",
      "source": [
        "#4. Remove the First and Last Elements:\n",
        "def remove_first_last(lst):\n",
        "    \"\"\"\n",
        "    Removes the first and last elements of the list and returns the resulting sublist.\n",
        "\n",
        "    Parameters:\n",
        "    lst (list): The list from which to remove the first and last elements.\n",
        "\n",
        "    Returns:\n",
        "    list: The sublist without the first and last elements.\n",
        "    \"\"\"\n",
        "    return lst[1:-1]  # Slicing from the second element to the second-to-last element\n",
        "\n",
        "\n",
        "lst = [1, 2, 3, 4, 5]\n",
        "print(remove_first_last(lst))\n"
      ],
      "metadata": {
        "id": "glmoV_cPWtc1"
      },
      "execution_count": null,
      "outputs": []
    },
    {
      "cell_type": "markdown",
      "source": [
        "**5.Extract Elements from the End**"
      ],
      "metadata": {
        "id": "by6ypnf9YZHI"
      }
    },
    {
      "cell_type": "code",
      "source": [
        "#5.Extract Elements from the End\n",
        "def get_first_n(lst, n):\n",
        "    \"\"\"\n",
        "    Extracts the first n elements from the list.\n",
        "    \"\"\"\n",
        "    return lst[:n]  # Slicing the first n elements\n",
        "\n",
        "# Taking input from user\n",
        "lst_input = input(\"Enter the list of numbers separated by spaces: \")\n",
        "lst = [int(x) for x in lst_input.split()]\n",
        "n = int(input(\"Enter the number of elements to extract from the start: \"))\n",
        "print(get_first_n(lst, n))\n"
      ],
      "metadata": {
        "id": "XMi0y1O8YdXg"
      },
      "execution_count": null,
      "outputs": []
    },
    {
      "cell_type": "markdown",
      "source": [
        "**6. Extract Elements from the End:**"
      ],
      "metadata": {
        "id": "7iHjJfHSXy9L"
      }
    },
    {
      "cell_type": "code",
      "source": [
        "#6. Extract Elements from the End:\n",
        "def get_last_n(lst, n):\n",
        "    \"\"\"\n",
        "    Extracts the last n elements from the list.\n",
        "    \"\"\"\n",
        "    return lst[-n:]  # Slicing the last n elements\n",
        "\n",
        "# Taking input from user\n",
        "lst_input = input(\"Enter the list of numbers separated by spaces: \")\n",
        "lst = [int(x) for x in lst_input.split()]\n",
        "n = int(input(\"Enter the number of elements to extract from the end: \"))\n",
        "print(get_last_n(lst, n))\n"
      ],
      "metadata": {
        "id": "MaE6rej7XSCZ"
      },
      "execution_count": null,
      "outputs": []
    },
    {
      "cell_type": "markdown",
      "source": [
        "**7.Extract Elements in Reverse Order**"
      ],
      "metadata": {
        "id": "N8lRQ_KcY6wR"
      }
    },
    {
      "cell_type": "code",
      "source": [
        "#7. Extract Elements in reverse order:\n",
        "def reverse_skip(lst):\n",
        "    \"\"\"\n",
        "    Extracts elements in reverse order starting from the second-to-last element,\n",
        "    skipping one element in between.\n",
        "    \"\"\"\n",
        "    return lst[-2::-2]  # Slicing to get every second element in reverse order starting from the second-to-last\n",
        "\n",
        "# Taking input from user\n",
        "lst_input = input(\"Enter the list of numbers separated by spaces: \")\n",
        "lst = [int(x) for x in lst_input.split()]\n",
        "print(reverse_skip(lst))\n"
      ],
      "metadata": {
        "id": "_aRGX0ixZEuM"
      },
      "execution_count": null,
      "outputs": []
    },
    {
      "cell_type": "markdown",
      "source": [
        "# 4.3 Exercise on Nested List:\n",
        "\n"
      ],
      "metadata": {
        "id": "cEbaWfHua5aD"
      }
    },
    {
      "cell_type": "markdown",
      "source": [
        "**1.Flatten a Nested List:**"
      ],
      "metadata": {
        "id": "ZUpBGDl0a_fn"
      }
    },
    {
      "cell_type": "code",
      "source": [
        "# 1. Flatten a Nested List:\n",
        "def flatten(lst):\n",
        "    \"\"\"\n",
        "    Flattens a nested list into a single list.\n",
        "\n",
        "    Parameters:\n",
        "    lst (list): The nested list to flatten.\n",
        "\n",
        "    Returns:\n",
        "    list: A flattened list containing all elements.\n",
        "    \"\"\"\n",
        "    flattened = []\n",
        "    for item in lst:\n",
        "        if isinstance(item, list):\n",
        "            flattened.extend(flatten(item))  # Recursively flatten if the item is a list\n",
        "        else:\n",
        "            flattened.append(item)\n",
        "    return flattened\n",
        "\n",
        "\n",
        "nested_lst = [[1, 2], [3, 4], [5]]\n",
        "flattened_lst = flatten(nested_lst)\n",
        "print(\"Flattened List:\", flattened_lst)"
      ],
      "metadata": {
        "id": "uv6UJClga-mZ"
      },
      "execution_count": null,
      "outputs": []
    },
    {
      "cell_type": "markdown",
      "source": [
        "**2. Accessing Nested List Elements:**"
      ],
      "metadata": {
        "id": "oEXElyfGdieH"
      }
    },
    {
      "cell_type": "code",
      "source": [
        "# 2. Accessing Nested List Elements:\n",
        "def access_nested_element(lst, indices):\n",
        "    \"\"\"\n",
        "    Extracts an element from a nested list based on a list of indices.\n",
        "\n",
        "    Parameters:\n",
        "    lst (list): The nested list to access.\n",
        "    indices (list): A list of indices to access the element.\n",
        "\n",
        "    Returns:\n",
        "    element: The element at the specified indices.\n",
        "    \"\"\"\n",
        "    for index in indices:\n",
        "        lst = lst[index]\n",
        "    return lst\n",
        "\n",
        "\n",
        "nested_lst = [[1, 2, 3], [4, 5, 6], [7, 8, 9]]\n",
        "indices = [1, 1]\n",
        "element = access_nested_element(nested_lst, indices)\n",
        "print(\"Accessed Element:\", element)\n"
      ],
      "metadata": {
        "id": "f8ueCZSLdi42"
      },
      "execution_count": null,
      "outputs": []
    },
    {
      "cell_type": "markdown",
      "source": [
        "**3. Sum of All Elements in a Nested List:**\n"
      ],
      "metadata": {
        "id": "pFKhNWIWe2oT"
      }
    },
    {
      "cell_type": "code",
      "source": [
        "# 3. Sum of All Elements in a Nested List:\n",
        "def sum_nested(lst):\n",
        "    \"\"\"\n",
        "    Calculates the sum of all elements in a nested list, regardless of depth.\n",
        "\n",
        "    Parameters:\n",
        "    lst (list): The nested list to sum.\n",
        "\n",
        "    Returns:\n",
        "    int: The sum of all elements.\n",
        "    \"\"\"\n",
        "    total = 0\n",
        "    for item in lst:\n",
        "        if isinstance(item, list):\n",
        "            total += sum_nested(item)  # Recursively sum if the item is a list\n",
        "        else:\n",
        "            total += item\n",
        "    return total\n",
        "\n",
        "\n",
        "nested_lst = [[6, 2], [9, [4, 5]], 6]\n",
        "sum_result = sum_nested(nested_lst)\n",
        "print(\"Sum of All Elements:\", sum_result)\n"
      ],
      "metadata": {
        "id": "MQbyw_8KfM9P"
      },
      "execution_count": null,
      "outputs": []
    },
    {
      "cell_type": "markdown",
      "source": [],
      "metadata": {
        "id": "cGQ5MB8sfb1q"
      }
    },
    {
      "cell_type": "code",
      "source": [
        "# 4. Remove Specific Element from a Nested List:\n",
        "def remove_element(lst, elem):\n",
        "    \"\"\"\n",
        "    Removes all occurrences of a specific element from a nested list.\n",
        "\n",
        "    Parameters:\n",
        "    lst (list): The nested list to modify.\n",
        "    elem: The element to remove.\n",
        "\n",
        "    Returns:\n",
        "    list: The modified list with the element removed.\n",
        "    \"\"\"\n",
        "    for i in range(len(lst)):\n",
        "        if isinstance(lst[i], list):\n",
        "            lst[i] = remove_element(lst[i], elem)\n",
        "        else:\n",
        "            if lst[i] == elem:\n",
        "                lst[i] = None  # Set to None to delete\n",
        "    return [item for item in lst if item is not None]\n",
        "\n",
        "# Example usage:\n",
        "nested_lst = [[1, 2], [3, 2], [4, 5]]\n",
        "print(\"Original List:\", nested_lst)\n",
        "elem_to_remove = int(input(\"Enter the element to remove: \"))\n",
        "removed_lst = remove_element(nested_lst, elem_to_remove)\n",
        "print(\"List After Removal:\", removed_lst)\n"
      ],
      "metadata": {
        "id": "HL_tatDGfpS-"
      },
      "execution_count": null,
      "outputs": []
    },
    {
      "cell_type": "markdown",
      "source": [
        "**5. Find the Maximum Element in a Nested List:**"
      ],
      "metadata": {
        "id": "O0tCeC3ZhQcJ"
      }
    },
    {
      "cell_type": "code",
      "source": [
        "import builtins\n",
        "\n",
        "# 5. Find the Maximum Element in a Nested List:\n",
        "def find_max(lst):\n",
        "    \"\"\"\n",
        "    Finds the maximum element in a nested list, regardless of depth.\n",
        "\n",
        "    Parameters:\n",
        "    lst (list): The nested list to find the maximum value in.\n",
        "\n",
        "    Returns:\n",
        "    int: The maximum value.\n",
        "    \"\"\"\n",
        "    max_val = float('-inf')\n",
        "    for item in lst:\n",
        "        if isinstance(item, list):\n",
        "            max_val = builtins.max(max_val, find_max(item))  # Use the built-in max explicitly if needed\n",
        "        else:\n",
        "            max_val = builtins.max(max_val, item)  # Ensure built-in max is used\n",
        "    return max_val\n",
        "\n",
        "# Example usage:\n",
        "nested_lst = [[1, 2], [3, [4, 5]], 6]\n",
        "max_element = find_max(nested_lst)\n",
        "print(\"Maximum Element:\", max_element)\n"
      ],
      "metadata": {
        "id": "xvYQ4Q8xhWhv"
      },
      "execution_count": null,
      "outputs": []
    },
    {
      "cell_type": "markdown",
      "source": [
        "**6. Count Occurrences of an Element in a Nested List:**"
      ],
      "metadata": {
        "id": "yP4MOEsghhjm"
      }
    },
    {
      "cell_type": "code",
      "source": [
        "# 6. Count Occurrences of an Element in a Nested List:\n",
        "def count_occurrences(lst, elem):\n",
        "    \"\"\"\n",
        "    Counts how many times a specific element appears in a nested list.\n",
        "\n",
        "    Parameters:\n",
        "    lst (list): The nested list to search.\n",
        "    elem: The element to count.\n",
        "\n",
        "    Returns:\n",
        "    int: The count of the element in the list.\n",
        "    \"\"\"\n",
        "    count = 0\n",
        "    for item in lst:\n",
        "        if isinstance(item, list):\n",
        "            count += count_occurrences(item, elem)  # Recursively count if the item is a list\n",
        "        else:\n",
        "            if item == elem:\n",
        "                count += 1\n",
        "    return count\n",
        "\n",
        "# Example usage:\n",
        "nested_lst = [[1, 2], [2, 3], [2, 4]]\n",
        "elem_to_count = 2\n",
        "occurrences = count_occurrences(nested_lst, elem_to_count)\n",
        "print(\"Occurrences of Element:\", occurrences)\n"
      ],
      "metadata": {
        "id": "gFFMJIMVhk_R"
      },
      "execution_count": null,
      "outputs": []
    },
    {
      "cell_type": "markdown",
      "source": [
        "**7. Flatten a List of Lists of Lists:**"
      ],
      "metadata": {
        "id": "syUJ_aSHiOgD"
      }
    },
    {
      "cell_type": "code",
      "source": [
        "# 7. Flatten a List of Lists of Lists:\n",
        "def deep_flatten(lst):\n",
        "    \"\"\"\n",
        "    Flattens a deeply nested list of lists into a single list.\n",
        "\n",
        "    Parameters:\n",
        "    lst (list): The deeply nested list to flatten.\n",
        "\n",
        "    Returns:\n",
        "    list: A flattened list containing all elements.\n",
        "    \"\"\"\n",
        "    flattened = []\n",
        "    for item in lst:\n",
        "        if isinstance(item, list):\n",
        "            flattened.extend(deep_flatten(item))  # Recursively flatten if the item is a list\n",
        "        else:\n",
        "            flattened.append(item)\n",
        "    return flattened\n",
        "\n",
        "deep_nested_lst = [[[1, 2], [3, 4]], [[5, 6], [7, 8]]]\n",
        "deep_flattened_lst = deep_flatten(deep_nested_lst)\n",
        "print(\"Deep Flattened List:\", deep_flattened_lst)\n"
      ],
      "metadata": {
        "id": "fkwkIj73iP4G"
      },
      "execution_count": null,
      "outputs": []
    },
    {
      "cell_type": "markdown",
      "source": [
        "**8. Nested List Average:**"
      ],
      "metadata": {
        "id": "59wOexwHidHc"
      }
    },
    {
      "cell_type": "code",
      "source": [
        "# 8. Nested List Average:\n",
        "def average_nested(lst):\n",
        "    \"\"\"\n",
        "    Calculates the average of all elements in a nested list.\n",
        "\n",
        "    Parameters:\n",
        "    lst (list): The nested list to calculate the average from.\n",
        "\n",
        "    Returns:\n",
        "    float: The average of all elements.\n",
        "    \"\"\"\n",
        "    total = 0\n",
        "    count = 0\n",
        "    for item in lst:\n",
        "        if isinstance(item, list):\n",
        "            sub_total, sub_count = average_nested(item)\n",
        "            total += sub_total\n",
        "            count += sub_count\n",
        "        else:\n",
        "            total += item\n",
        "            count += 1\n",
        "    return total, count\n",
        "\n",
        "\n",
        "def get_average(lst):\n",
        "    total, count = average_nested(lst)\n",
        "    return total / count if count != 0 else 0\n",
        "\n",
        "# Example usage:\n",
        "nested_lst = [[1, 2], [3, 4], [5, 6]]\n",
        "avg_result = get_average(nested_lst)\n",
        "print(\"Average of Elements:\", avg_result)\n"
      ],
      "metadata": {
        "id": "_ojAqx7SilPB"
      },
      "execution_count": null,
      "outputs": []
    }
  ],
  "metadata": {
    "colab": {
      "collapsed_sections": [
        "KtPO7SuAto7l",
        "Dj3NvT85Rq97"
      ],
      "provenance": []
    },
    "kernelspec": {
      "display_name": "Python 3",
      "name": "python3"
    },
    "language_info": {
      "codemirror_mode": {
        "name": "ipython",
        "version": 3
      },
      "file_extension": ".py",
      "mimetype": "text/x-python",
      "name": "python",
      "nbconvert_exporter": "python",
      "pygments_lexer": "ipython3",
      "version": "3.12.9"
    }
  },
  "nbformat": 4,
  "nbformat_minor": 0
}